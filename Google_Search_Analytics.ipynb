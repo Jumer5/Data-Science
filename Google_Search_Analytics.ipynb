{
  "nbformat": 4,
  "nbformat_minor": 0,
  "metadata": {
    "colab": {
      "provenance": [],
      "authorship_tag": "ABX9TyMozRBQm/HOpeeXvOrhmf0j",
      "include_colab_link": true
    },
    "kernelspec": {
      "name": "python3",
      "display_name": "Python 3"
    },
    "language_info": {
      "name": "python"
    }
  },
  "cells": [
    {
      "cell_type": "markdown",
      "metadata": {
        "id": "view-in-github",
        "colab_type": "text"
      },
      "source": [
        "<a href=\"https://colab.research.google.com/github/Jumer5/Data-Science/blob/main/Google_Search_Analytics.ipynb\" target=\"_parent\"><img src=\"https://colab.research.google.com/assets/colab-badge.svg\" alt=\"Open In Colab\"/></a>"
      ]
    },
    {
      "cell_type": "code",
      "execution_count": 2,
      "metadata": {
        "colab": {
          "base_uri": "https://localhost:8080/",
          "height": 141
        },
        "id": "kCQrnr27R9Y6",
        "outputId": "cb9a4cf0-2221-4622-fe24-0690ad0f1b0d"
      },
      "outputs": [
        {
          "output_type": "error",
          "ename": "SyntaxError",
          "evalue": "invalid syntax (<ipython-input-2-056717afaf8a>, line 1)",
          "traceback": [
            "\u001b[0;36m  File \u001b[0;32m\"<ipython-input-2-056717afaf8a>\"\u001b[0;36m, line \u001b[0;32m1\u001b[0m\n\u001b[0;31m    pip install pytrends\u001b[0m\n\u001b[0m        ^\u001b[0m\n\u001b[0;31mSyntaxError\u001b[0m\u001b[0;31m:\u001b[0m invalid syntax\n"
          ]
        }
      ],
      "source": [
        "pip install pytrends\n",
        "import pandas as pd\n",
        "from pytrends.request import TrendReq\n",
        "import matplotlib.pyplot as plt\n",
        "trends = TrendReq()\n",
        "trends.build_payload(kw_list=[\"Machine Learning\"])\n",
        "data = trends.interest_by_region()\n",
        "data = data.sort_values(by=\"Machine Learning\", ascending=False)\n",
        "data = data.head(10)\n",
        "print(data)\n",
        "data.reset_index().plot(x=\"geoName\",\n",
        "                        y=\"Machine Learning\",\n",
        "                        figsize=(15,12), kind=\"bar\")\n",
        "plt.style.use('fivethirtyeight')\n",
        "plt.show()\n",
        "data = TrendReq(hl='en-US', tz=360)\n",
        "data.build_payload(kw_list=['Machine Learning'])\n",
        "data = data.interest_over_time()\n",
        "fig, ax = plt.subplots(figsize=(15, 12))\n",
        "data['Machine Learning'].plot()\n",
        "plt.style.use('fivethirtyeight')\n",
        "plt.title('Total Google Searches for Machine Learning',\n",
        "          fontweight='bold')\n",
        "plt.xlabel('Year')\n",
        "plt.ylabel('Total Count')\n",
        "plt.show()"
      ]
    }
  ]
}